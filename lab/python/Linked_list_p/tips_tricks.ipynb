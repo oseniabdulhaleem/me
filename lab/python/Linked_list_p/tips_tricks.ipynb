{
 "cells": [
  {
   "cell_type": "markdown",
   "metadata": {},
   "source": [
    "### A function to count a list"
   ]
  },
  {
   "cell_type": "code",
   "execution_count": null,
   "metadata": {
    "vscode": {
     "languageId": "plaintext"
    }
   },
   "outputs": [],
   "source": [
    "def cnt(head):\n",
    "    count = 0\n",
    "    for x in head:\n",
    "        count += 1\n",
    "    return count\n",
    "\n",
    "def cnt1(head):\n",
    "    temp = head\n",
    "    len = 0\n",
    "\n",
    "    while(temp != None):\n",
    "        len += 1\n",
    "        temp = temp.next()\n",
    "\n",
    "    return len"
   ]
  },
  {
   "cell_type": "code",
   "execution_count": null,
   "metadata": {
    "vscode": {
     "languageId": "plaintext"
    }
   },
   "outputs": [],
   "source": [
    "import time\n",
    "x = [x for x in range(50)]\n",
    "a = time.time()\n",
    "cnt(x)\n",
    "time.time() - a"
   ]
  },
  {
   "cell_type": "markdown",
   "metadata": {},
   "source": []
  }
 ],
 "metadata": {
  "language_info": {
   "name": "python"
  },
  "orig_nbformat": 4
 },
 "nbformat": 4,
 "nbformat_minor": 2
}
